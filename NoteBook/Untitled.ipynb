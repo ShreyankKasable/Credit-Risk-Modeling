{
 "cells": [
  {
   "cell_type": "markdown",
   "id": "612828b5",
   "metadata": {},
   "source": [
    "### Importing all require Libraries"
   ]
  },
  {
   "cell_type": "code",
   "execution_count": 1,
   "id": "4e2c47af",
   "metadata": {},
   "outputs": [
    {
     "name": "stderr",
     "output_type": "stream",
     "text": [
      "C:\\Users\\shrey\\anaconda3\\lib\\site-packages\\pandas\\core\\arrays\\masked.py:60: UserWarning: Pandas requires version '1.3.6' or newer of 'bottleneck' (version '1.3.5' currently installed).\n",
      "  from pandas.core import (\n"
     ]
    }
   ],
   "source": [
    "import pandas as pd\n",
    "import numpy as np\n",
    "import seaborn as sns\n",
    "import matplotlib.pyplot as plt\n",
    "import os\n",
    "import warnings\n",
    "warnings.filterwarnings('ignore')\n",
    "from sklearn.metrics import r2_score\n",
    "from sklearn.model_selection import train_test_split"
   ]
  },
  {
   "cell_type": "markdown",
   "id": "283bef19",
   "metadata": {},
   "source": [
    "### Importing Datasets"
   ]
  },
  {
   "cell_type": "code",
   "execution_count": 2,
   "id": "dc89d06b",
   "metadata": {},
   "outputs": [],
   "source": [
    "df1 = pd.read_excel(\"Data/case_study1.xlsx\")\n",
    "df2 = pd.read_excel(\"Data/case_study2.xlsx\")"
   ]
  },
  {
   "cell_type": "markdown",
   "id": "c9734b7b",
   "metadata": {},
   "source": [
    "### Display settings"
   ]
  },
  {
   "cell_type": "code",
   "execution_count": 3,
   "id": "74e18335",
   "metadata": {},
   "outputs": [],
   "source": [
    "pd.set_option(\"display.max_columns\", None)\n",
    "plt.style.use('Solarize_Light2')\n",
    "\n",
    "def add_bar_labels(ax):\n",
    "    #ax = plt.gca()\n",
    "    for i in ax.patches:\n",
    "        ax.text(i.get_x() + i.get_width() / 2., i.get_height(), \n",
    "                '%d' % int(i.get_height()), fontsize=10,\n",
    "                ha=\"center\", va='bottom')"
   ]
  },
  {
   "cell_type": "markdown",
   "id": "886b0b64",
   "metadata": {},
   "source": [
    "### High-level Summary of Data"
   ]
  },
  {
   "cell_type": "code",
   "execution_count": 4,
   "id": "6ba96010",
   "metadata": {},
   "outputs": [
    {
     "data": {
      "text/html": [
       "<div>\n",
       "<style scoped>\n",
       "    .dataframe tbody tr th:only-of-type {\n",
       "        vertical-align: middle;\n",
       "    }\n",
       "\n",
       "    .dataframe tbody tr th {\n",
       "        vertical-align: top;\n",
       "    }\n",
       "\n",
       "    .dataframe thead th {\n",
       "        text-align: right;\n",
       "    }\n",
       "</style>\n",
       "<table border=\"1\" class=\"dataframe\">\n",
       "  <thead>\n",
       "    <tr style=\"text-align: right;\">\n",
       "      <th></th>\n",
       "      <th>PROSPECTID</th>\n",
       "      <th>Total_TL</th>\n",
       "      <th>Tot_Closed_TL</th>\n",
       "      <th>Tot_Active_TL</th>\n",
       "      <th>Total_TL_opened_L6M</th>\n",
       "      <th>Tot_TL_closed_L6M</th>\n",
       "      <th>pct_tl_open_L6M</th>\n",
       "      <th>pct_tl_closed_L6M</th>\n",
       "      <th>pct_active_tl</th>\n",
       "      <th>pct_closed_tl</th>\n",
       "      <th>Total_TL_opened_L12M</th>\n",
       "      <th>Tot_TL_closed_L12M</th>\n",
       "      <th>pct_tl_open_L12M</th>\n",
       "      <th>pct_tl_closed_L12M</th>\n",
       "      <th>Tot_Missed_Pmnt</th>\n",
       "      <th>Auto_TL</th>\n",
       "      <th>CC_TL</th>\n",
       "      <th>Consumer_TL</th>\n",
       "      <th>Gold_TL</th>\n",
       "      <th>Home_TL</th>\n",
       "      <th>PL_TL</th>\n",
       "      <th>Secured_TL</th>\n",
       "      <th>Unsecured_TL</th>\n",
       "      <th>Other_TL</th>\n",
       "      <th>Age_Oldest_TL</th>\n",
       "      <th>Age_Newest_TL</th>\n",
       "    </tr>\n",
       "  </thead>\n",
       "  <tbody>\n",
       "    <tr>\n",
       "      <th>0</th>\n",
       "      <td>1</td>\n",
       "      <td>5</td>\n",
       "      <td>4</td>\n",
       "      <td>1</td>\n",
       "      <td>0</td>\n",
       "      <td>0</td>\n",
       "      <td>0.000</td>\n",
       "      <td>0.0</td>\n",
       "      <td>0.200</td>\n",
       "      <td>0.800</td>\n",
       "      <td>0</td>\n",
       "      <td>0</td>\n",
       "      <td>0.00</td>\n",
       "      <td>0.0</td>\n",
       "      <td>0</td>\n",
       "      <td>0</td>\n",
       "      <td>0</td>\n",
       "      <td>0</td>\n",
       "      <td>1</td>\n",
       "      <td>0</td>\n",
       "      <td>4</td>\n",
       "      <td>1</td>\n",
       "      <td>4</td>\n",
       "      <td>0</td>\n",
       "      <td>72</td>\n",
       "      <td>18</td>\n",
       "    </tr>\n",
       "    <tr>\n",
       "      <th>1</th>\n",
       "      <td>2</td>\n",
       "      <td>1</td>\n",
       "      <td>0</td>\n",
       "      <td>1</td>\n",
       "      <td>0</td>\n",
       "      <td>0</td>\n",
       "      <td>0.000</td>\n",
       "      <td>0.0</td>\n",
       "      <td>1.000</td>\n",
       "      <td>0.000</td>\n",
       "      <td>1</td>\n",
       "      <td>0</td>\n",
       "      <td>1.00</td>\n",
       "      <td>0.0</td>\n",
       "      <td>0</td>\n",
       "      <td>0</td>\n",
       "      <td>0</td>\n",
       "      <td>1</td>\n",
       "      <td>0</td>\n",
       "      <td>0</td>\n",
       "      <td>0</td>\n",
       "      <td>0</td>\n",
       "      <td>1</td>\n",
       "      <td>0</td>\n",
       "      <td>7</td>\n",
       "      <td>7</td>\n",
       "    </tr>\n",
       "    <tr>\n",
       "      <th>2</th>\n",
       "      <td>3</td>\n",
       "      <td>8</td>\n",
       "      <td>0</td>\n",
       "      <td>8</td>\n",
       "      <td>1</td>\n",
       "      <td>0</td>\n",
       "      <td>0.125</td>\n",
       "      <td>0.0</td>\n",
       "      <td>1.000</td>\n",
       "      <td>0.000</td>\n",
       "      <td>2</td>\n",
       "      <td>0</td>\n",
       "      <td>0.25</td>\n",
       "      <td>0.0</td>\n",
       "      <td>1</td>\n",
       "      <td>1</td>\n",
       "      <td>0</td>\n",
       "      <td>6</td>\n",
       "      <td>1</td>\n",
       "      <td>0</td>\n",
       "      <td>0</td>\n",
       "      <td>2</td>\n",
       "      <td>6</td>\n",
       "      <td>0</td>\n",
       "      <td>47</td>\n",
       "      <td>2</td>\n",
       "    </tr>\n",
       "    <tr>\n",
       "      <th>3</th>\n",
       "      <td>4</td>\n",
       "      <td>1</td>\n",
       "      <td>0</td>\n",
       "      <td>1</td>\n",
       "      <td>1</td>\n",
       "      <td>0</td>\n",
       "      <td>1.000</td>\n",
       "      <td>0.0</td>\n",
       "      <td>1.000</td>\n",
       "      <td>0.000</td>\n",
       "      <td>1</td>\n",
       "      <td>0</td>\n",
       "      <td>1.00</td>\n",
       "      <td>0.0</td>\n",
       "      <td>1</td>\n",
       "      <td>0</td>\n",
       "      <td>0</td>\n",
       "      <td>0</td>\n",
       "      <td>0</td>\n",
       "      <td>0</td>\n",
       "      <td>0</td>\n",
       "      <td>0</td>\n",
       "      <td>1</td>\n",
       "      <td>1</td>\n",
       "      <td>5</td>\n",
       "      <td>5</td>\n",
       "    </tr>\n",
       "    <tr>\n",
       "      <th>4</th>\n",
       "      <td>5</td>\n",
       "      <td>3</td>\n",
       "      <td>2</td>\n",
       "      <td>1</td>\n",
       "      <td>0</td>\n",
       "      <td>0</td>\n",
       "      <td>0.000</td>\n",
       "      <td>0.0</td>\n",
       "      <td>0.333</td>\n",
       "      <td>0.667</td>\n",
       "      <td>0</td>\n",
       "      <td>0</td>\n",
       "      <td>0.00</td>\n",
       "      <td>0.0</td>\n",
       "      <td>0</td>\n",
       "      <td>1</td>\n",
       "      <td>0</td>\n",
       "      <td>0</td>\n",
       "      <td>0</td>\n",
       "      <td>0</td>\n",
       "      <td>0</td>\n",
       "      <td>3</td>\n",
       "      <td>0</td>\n",
       "      <td>2</td>\n",
       "      <td>131</td>\n",
       "      <td>32</td>\n",
       "    </tr>\n",
       "  </tbody>\n",
       "</table>\n",
       "</div>"
      ],
      "text/plain": [
       "   PROSPECTID  Total_TL  Tot_Closed_TL  Tot_Active_TL  Total_TL_opened_L6M  \\\n",
       "0           1         5              4              1                    0   \n",
       "1           2         1              0              1                    0   \n",
       "2           3         8              0              8                    1   \n",
       "3           4         1              0              1                    1   \n",
       "4           5         3              2              1                    0   \n",
       "\n",
       "   Tot_TL_closed_L6M  pct_tl_open_L6M  pct_tl_closed_L6M  pct_active_tl  \\\n",
       "0                  0            0.000                0.0          0.200   \n",
       "1                  0            0.000                0.0          1.000   \n",
       "2                  0            0.125                0.0          1.000   \n",
       "3                  0            1.000                0.0          1.000   \n",
       "4                  0            0.000                0.0          0.333   \n",
       "\n",
       "   pct_closed_tl  Total_TL_opened_L12M  Tot_TL_closed_L12M  pct_tl_open_L12M  \\\n",
       "0          0.800                     0                   0              0.00   \n",
       "1          0.000                     1                   0              1.00   \n",
       "2          0.000                     2                   0              0.25   \n",
       "3          0.000                     1                   0              1.00   \n",
       "4          0.667                     0                   0              0.00   \n",
       "\n",
       "   pct_tl_closed_L12M  Tot_Missed_Pmnt  Auto_TL  CC_TL  Consumer_TL  Gold_TL  \\\n",
       "0                 0.0                0        0      0            0        1   \n",
       "1                 0.0                0        0      0            1        0   \n",
       "2                 0.0                1        1      0            6        1   \n",
       "3                 0.0                1        0      0            0        0   \n",
       "4                 0.0                0        1      0            0        0   \n",
       "\n",
       "   Home_TL  PL_TL  Secured_TL  Unsecured_TL  Other_TL  Age_Oldest_TL  \\\n",
       "0        0      4           1             4         0             72   \n",
       "1        0      0           0             1         0              7   \n",
       "2        0      0           2             6         0             47   \n",
       "3        0      0           0             1         1              5   \n",
       "4        0      0           3             0         2            131   \n",
       "\n",
       "   Age_Newest_TL  \n",
       "0             18  \n",
       "1              7  \n",
       "2              2  \n",
       "3              5  \n",
       "4             32  "
      ]
     },
     "execution_count": 4,
     "metadata": {},
     "output_type": "execute_result"
    }
   ],
   "source": [
    "df1.head()"
   ]
  },
  {
   "cell_type": "code",
   "execution_count": 5,
   "id": "c54b7fdb",
   "metadata": {},
   "outputs": [
    {
     "data": {
      "text/plain": [
       "(51336, 26)"
      ]
     },
     "execution_count": 5,
     "metadata": {},
     "output_type": "execute_result"
    }
   ],
   "source": [
    "df1.shape"
   ]
  },
  {
   "cell_type": "code",
   "execution_count": 6,
   "id": "bd2afbd7",
   "metadata": {},
   "outputs": [
    {
     "name": "stdout",
     "output_type": "stream",
     "text": [
      "<class 'pandas.core.frame.DataFrame'>\n",
      "RangeIndex: 51336 entries, 0 to 51335\n",
      "Data columns (total 26 columns):\n",
      " #   Column                Non-Null Count  Dtype  \n",
      "---  ------                --------------  -----  \n",
      " 0   PROSPECTID            51336 non-null  int64  \n",
      " 1   Total_TL              51336 non-null  int64  \n",
      " 2   Tot_Closed_TL         51336 non-null  int64  \n",
      " 3   Tot_Active_TL         51336 non-null  int64  \n",
      " 4   Total_TL_opened_L6M   51336 non-null  int64  \n",
      " 5   Tot_TL_closed_L6M     51336 non-null  int64  \n",
      " 6   pct_tl_open_L6M       51336 non-null  float64\n",
      " 7   pct_tl_closed_L6M     51336 non-null  float64\n",
      " 8   pct_active_tl         51336 non-null  float64\n",
      " 9   pct_closed_tl         51336 non-null  float64\n",
      " 10  Total_TL_opened_L12M  51336 non-null  int64  \n",
      " 11  Tot_TL_closed_L12M    51336 non-null  int64  \n",
      " 12  pct_tl_open_L12M      51336 non-null  float64\n",
      " 13  pct_tl_closed_L12M    51336 non-null  float64\n",
      " 14  Tot_Missed_Pmnt       51336 non-null  int64  \n",
      " 15  Auto_TL               51336 non-null  int64  \n",
      " 16  CC_TL                 51336 non-null  int64  \n",
      " 17  Consumer_TL           51336 non-null  int64  \n",
      " 18  Gold_TL               51336 non-null  int64  \n",
      " 19  Home_TL               51336 non-null  int64  \n",
      " 20  PL_TL                 51336 non-null  int64  \n",
      " 21  Secured_TL            51336 non-null  int64  \n",
      " 22  Unsecured_TL          51336 non-null  int64  \n",
      " 23  Other_TL              51336 non-null  int64  \n",
      " 24  Age_Oldest_TL         51336 non-null  int64  \n",
      " 25  Age_Newest_TL         51336 non-null  int64  \n",
      "dtypes: float64(6), int64(20)\n",
      "memory usage: 10.2 MB\n"
     ]
    }
   ],
   "source": [
    "df1.info()"
   ]
  },
  {
   "cell_type": "code",
   "execution_count": 7,
   "id": "ed59e226",
   "metadata": {},
   "outputs": [
    {
     "name": "stdout",
     "output_type": "stream",
     "text": [
      "<class 'pandas.core.frame.DataFrame'>\n",
      "RangeIndex: 51336 entries, 0 to 51335\n",
      "Data columns (total 62 columns):\n",
      " #   Column                        Non-Null Count  Dtype  \n",
      "---  ------                        --------------  -----  \n",
      " 0   PROSPECTID                    51336 non-null  int64  \n",
      " 1   time_since_recent_payment     51336 non-null  int64  \n",
      " 2   time_since_first_deliquency   51336 non-null  int64  \n",
      " 3   time_since_recent_deliquency  51336 non-null  int64  \n",
      " 4   num_times_delinquent          51336 non-null  int64  \n",
      " 5   max_delinquency_level         51336 non-null  int64  \n",
      " 6   max_recent_level_of_deliq     51336 non-null  int64  \n",
      " 7   num_deliq_6mts                51336 non-null  int64  \n",
      " 8   num_deliq_12mts               51336 non-null  int64  \n",
      " 9   num_deliq_6_12mts             51336 non-null  int64  \n",
      " 10  max_deliq_6mts                51336 non-null  int64  \n",
      " 11  max_deliq_12mts               51336 non-null  int64  \n",
      " 12  num_times_30p_dpd             51336 non-null  int64  \n",
      " 13  num_times_60p_dpd             51336 non-null  int64  \n",
      " 14  num_std                       51336 non-null  int64  \n",
      " 15  num_std_6mts                  51336 non-null  int64  \n",
      " 16  num_std_12mts                 51336 non-null  int64  \n",
      " 17  num_sub                       51336 non-null  int64  \n",
      " 18  num_sub_6mts                  51336 non-null  int64  \n",
      " 19  num_sub_12mts                 51336 non-null  int64  \n",
      " 20  num_dbt                       51336 non-null  int64  \n",
      " 21  num_dbt_6mts                  51336 non-null  int64  \n",
      " 22  num_dbt_12mts                 51336 non-null  int64  \n",
      " 23  num_lss                       51336 non-null  int64  \n",
      " 24  num_lss_6mts                  51336 non-null  int64  \n",
      " 25  num_lss_12mts                 51336 non-null  int64  \n",
      " 26  recent_level_of_deliq         51336 non-null  int64  \n",
      " 27  tot_enq                       51336 non-null  int64  \n",
      " 28  CC_enq                        51336 non-null  int64  \n",
      " 29  CC_enq_L6m                    51336 non-null  int64  \n",
      " 30  CC_enq_L12m                   51336 non-null  int64  \n",
      " 31  PL_enq                        51336 non-null  int64  \n",
      " 32  PL_enq_L6m                    51336 non-null  int64  \n",
      " 33  PL_enq_L12m                   51336 non-null  int64  \n",
      " 34  time_since_recent_enq         51336 non-null  int64  \n",
      " 35  enq_L12m                      51336 non-null  int64  \n",
      " 36  enq_L6m                       51336 non-null  int64  \n",
      " 37  enq_L3m                       51336 non-null  int64  \n",
      " 38  MARITALSTATUS                 51336 non-null  object \n",
      " 39  EDUCATION                     51336 non-null  object \n",
      " 40  AGE                           51336 non-null  int64  \n",
      " 41  GENDER                        51336 non-null  object \n",
      " 42  NETMONTHLYINCOME              51336 non-null  int64  \n",
      " 43  Time_With_Curr_Empr           51336 non-null  int64  \n",
      " 44  pct_of_active_TLs_ever        51336 non-null  float64\n",
      " 45  pct_opened_TLs_L6m_of_L12m    51336 non-null  float64\n",
      " 46  pct_currentBal_all_TL         51336 non-null  float64\n",
      " 47  CC_utilization                51336 non-null  float64\n",
      " 48  CC_Flag                       51336 non-null  int64  \n",
      " 49  PL_utilization                51336 non-null  float64\n",
      " 50  PL_Flag                       51336 non-null  int64  \n",
      " 51  pct_PL_enq_L6m_of_L12m        51336 non-null  float64\n",
      " 52  pct_CC_enq_L6m_of_L12m        51336 non-null  float64\n",
      " 53  pct_PL_enq_L6m_of_ever        51336 non-null  float64\n",
      " 54  pct_CC_enq_L6m_of_ever        51336 non-null  float64\n",
      " 55  max_unsec_exposure_inPct      51336 non-null  float64\n",
      " 56  HL_Flag                       51336 non-null  int64  \n",
      " 57  GL_Flag                       51336 non-null  int64  \n",
      " 58  last_prod_enq2                51336 non-null  object \n",
      " 59  first_prod_enq2               51336 non-null  object \n",
      " 60  Credit_Score                  51336 non-null  int64  \n",
      " 61  Approved_Flag                 51336 non-null  object \n",
      "dtypes: float64(10), int64(46), object(6)\n",
      "memory usage: 24.3+ MB\n"
     ]
    }
   ],
   "source": [
    "df2.info()"
   ]
  },
  {
   "cell_type": "markdown",
   "id": "63e67148",
   "metadata": {},
   "source": [
    "### Analyzing and Removing Null Values"
   ]
  },
  {
   "cell_type": "markdown",
   "id": "5a6ae430",
   "metadata": {},
   "source": [
    "#### DATASET-1"
   ]
  },
  {
   "cell_type": "code",
   "execution_count": 8,
   "id": "0589ef21",
   "metadata": {},
   "outputs": [
    {
     "name": "stdout",
     "output_type": "stream",
     "text": [
      "Age_Oldest_TL :- 40\n",
      "Age_Newest_TL :- 40\n"
     ]
    }
   ],
   "source": [
    "for i in df1.columns:\n",
    "    if len(df1[df1[i] == -99999]) !=0:\n",
    "        print(i,\":-\",len(df1[df1[i] == -99999]))\n",
    "    "
   ]
  },
  {
   "cell_type": "code",
   "execution_count": 9,
   "id": "b7083815",
   "metadata": {},
   "outputs": [
    {
     "data": {
      "text/plain": [
       "40"
      ]
     },
     "execution_count": 9,
     "metadata": {},
     "output_type": "execute_result"
    }
   ],
   "source": [
    "len(df1[df1['Age_Oldest_TL'] == -99999])"
   ]
  },
  {
   "cell_type": "code",
   "execution_count": 10,
   "id": "7237590f",
   "metadata": {},
   "outputs": [],
   "source": [
    "df1 = df1[df1['Age_Oldest_TL'] != -99999]"
   ]
  },
  {
   "cell_type": "code",
   "execution_count": 11,
   "id": "26b17c81",
   "metadata": {},
   "outputs": [],
   "source": [
    "for i in df1.columns:\n",
    "    if len(df1[df1[i] == -99999]) !=0:\n",
    "        print(i,\":-\",len(df1[df1[i] == -99999]))\n",
    "    "
   ]
  },
  {
   "cell_type": "markdown",
   "id": "30f0ec1d",
   "metadata": {},
   "source": [
    "#### DATASET-2"
   ]
  },
  {
   "cell_type": "code",
   "execution_count": 12,
   "id": "cdfee203",
   "metadata": {},
   "outputs": [
    {
     "name": "stdout",
     "output_type": "stream",
     "text": [
      "time_since_recent_payment :- 8.36 %\n",
      "time_since_first_deliquency :- 70.03 %\n",
      "time_since_recent_deliquency :- 70.03 %\n",
      "max_delinquency_level :- 70.03 %\n",
      "max_deliq_6mts :- 25.11 %\n",
      "max_deliq_12mts :- 21.1 %\n",
      "tot_enq :- 12.31 %\n",
      "CC_enq :- 12.31 %\n",
      "CC_enq_L6m :- 12.31 %\n",
      "CC_enq_L12m :- 12.31 %\n",
      "PL_enq :- 12.31 %\n",
      "PL_enq_L6m :- 12.31 %\n",
      "PL_enq_L12m :- 12.31 %\n",
      "time_since_recent_enq :- 12.31 %\n",
      "enq_L12m :- 12.31 %\n",
      "enq_L6m :- 12.31 %\n",
      "enq_L3m :- 12.31 %\n",
      "pct_currentBal_all_TL :- 0.14 %\n",
      "CC_utilization :- 92.79 %\n",
      "PL_utilization :- 86.56 %\n",
      "max_unsec_exposure_inPct :- 45.15 %\n"
     ]
    }
   ],
   "source": [
    "df2_temp = df2\n",
    "for i in df2_temp.columns:\n",
    "    if len(df2_temp[df2_temp[i] == -99999]) !=0:\n",
    "        print(i,\":-\", round((len(df2_temp[df2_temp[i] == -99999])/df2_temp.shape[0])*100, 2),\"%\" )\n",
    "    "
   ]
  },
  {
   "cell_type": "code",
   "execution_count": 13,
   "id": "8a320d7d",
   "metadata": {},
   "outputs": [
    {
     "name": "stdout",
     "output_type": "stream",
     "text": [
      "time_since_first_deliquency :- 70.03 %\n",
      "time_since_recent_deliquency :- 70.03 %\n",
      "max_delinquency_level :- 70.03 %\n",
      "CC_utilization :- 92.79 %\n",
      "PL_utilization :- 86.56 %\n",
      "max_unsec_exposure_inPct :- 45.15 %\n"
     ]
    }
   ],
   "source": [
    "columnsToBeRemoved = []\n",
    "for i in df2_temp.columns:\n",
    "    if len(df2_temp[df2_temp[i] == -99999]) != 0 and round((len(df2_temp[df2_temp[i] == -99999])/df2_temp.shape[0])*100, 2) > 30:\n",
    "        print(i,\":-\", round((len(df2_temp[df2_temp[i] == -99999])/df2_temp.shape[0])*100, 2),\"%\" )\n",
    "        columnsToBeRemoved.append(i)\n",
    "    "
   ]
  },
  {
   "cell_type": "code",
   "execution_count": 14,
   "id": "293c7a69",
   "metadata": {},
   "outputs": [
    {
     "data": {
      "text/plain": [
       "['time_since_first_deliquency',\n",
       " 'time_since_recent_deliquency',\n",
       " 'max_delinquency_level',\n",
       " 'CC_utilization',\n",
       " 'PL_utilization',\n",
       " 'max_unsec_exposure_inPct']"
      ]
     },
     "execution_count": 14,
     "metadata": {},
     "output_type": "execute_result"
    }
   ],
   "source": [
    "columnsToBeRemoved"
   ]
  },
  {
   "cell_type": "code",
   "execution_count": 15,
   "id": "ca554eaa",
   "metadata": {},
   "outputs": [],
   "source": [
    "df2_temp_temp = df2_temp\n",
    "df2_temp_temp = df2_temp_temp.drop(columnsToBeRemoved, axis = 1)"
   ]
  },
  {
   "cell_type": "code",
   "execution_count": 16,
   "id": "59966f1d",
   "metadata": {},
   "outputs": [
    {
     "data": {
      "text/plain": [
       "(51336, 56)"
      ]
     },
     "execution_count": 16,
     "metadata": {},
     "output_type": "execute_result"
    }
   ],
   "source": [
    "df2_temp_temp.shape"
   ]
  },
  {
   "cell_type": "code",
   "execution_count": 17,
   "id": "20d3c053",
   "metadata": {},
   "outputs": [],
   "source": [
    "\n",
    "for i in df2_temp_temp.columns:\n",
    "    df2_temp_temp = df2_temp_temp.loc[df2_temp[i] != -99999]"
   ]
  },
  {
   "cell_type": "code",
   "execution_count": 18,
   "id": "09164921",
   "metadata": {},
   "outputs": [
    {
     "data": {
      "text/plain": [
       "(34026, 56)"
      ]
     },
     "execution_count": 18,
     "metadata": {},
     "output_type": "execute_result"
    }
   ],
   "source": [
    "df2_temp_temp.shape"
   ]
  },
  {
   "cell_type": "code",
   "execution_count": 19,
   "id": "2bd97798",
   "metadata": {},
   "outputs": [
    {
     "name": "stdout",
     "output_type": "stream",
     "text": [
      "PERCENT OF DATA THAT WE LEFT WITH :-  66.0 %\n"
     ]
    }
   ],
   "source": [
    "print(\"PERCENT OF DATA THAT WE LEFT WITH :- \",round(len(df2_temp_temp)/len(df2), 2)*100, '%')"
   ]
  },
  {
   "cell_type": "code",
   "execution_count": 20,
   "id": "bd6c571e",
   "metadata": {},
   "outputs": [
    {
     "name": "stdout",
     "output_type": "stream",
     "text": [
      "time_since_first_deliquency :- 70.03 %\n",
      "time_since_recent_deliquency :- 70.03 %\n",
      "max_delinquency_level :- 70.03 %\n",
      "max_deliq_6mts :- 25.11 %\n",
      "max_deliq_12mts :- 21.1 %\n",
      "CC_utilization :- 92.79 %\n",
      "PL_utilization :- 86.56 %\n",
      "max_unsec_exposure_inPct :- 45.15 %\n"
     ]
    }
   ],
   "source": [
    "columnsToBeRemoved = []\n",
    "for i in df2_temp.columns:\n",
    "    if len(df2_temp[df2_temp[i] == -99999]) > 10000 :\n",
    "        print(i,\":-\", round((len(df2_temp[df2_temp[i] == -99999])/df2_temp.shape[0])*100, 2),\"%\" )\n",
    "        columnsToBeRemoved.append(i)\n",
    "    "
   ]
  },
  {
   "cell_type": "code",
   "execution_count": 21,
   "id": "97e49f4b",
   "metadata": {},
   "outputs": [
    {
     "data": {
      "text/plain": [
       "(51336, 54)"
      ]
     },
     "execution_count": 21,
     "metadata": {},
     "output_type": "execute_result"
    }
   ],
   "source": [
    "df2_temp = df2_temp.drop(columnsToBeRemoved, axis = 1)\n",
    "df2_temp.shape"
   ]
  },
  {
   "cell_type": "code",
   "execution_count": 22,
   "id": "436ffefc",
   "metadata": {},
   "outputs": [],
   "source": [
    "\n",
    "for i in df2_temp.columns:\n",
    "    df2_temp = df2_temp.loc[df2_temp[i] != -99999]"
   ]
  },
  {
   "cell_type": "code",
   "execution_count": 23,
   "id": "0292e3ec",
   "metadata": {},
   "outputs": [
    {
     "data": {
      "text/plain": [
       "(42066, 54)"
      ]
     },
     "execution_count": 23,
     "metadata": {},
     "output_type": "execute_result"
    }
   ],
   "source": [
    "df2_temp.shape"
   ]
  },
  {
   "cell_type": "code",
   "execution_count": 24,
   "id": "ac06ffb6",
   "metadata": {},
   "outputs": [
    {
     "name": "stdout",
     "output_type": "stream",
     "text": [
      "PERCENT OF DATA THAT WE LEFT WITH :-  82.0 %\n"
     ]
    }
   ],
   "source": [
    "print(\"PERCENT OF DATA THAT WE LEFT WITH :- \",round(len(df2_temp)/len(df2), 2)*100, '%')"
   ]
  },
  {
   "cell_type": "code",
   "execution_count": 25,
   "id": "f80354a4",
   "metadata": {},
   "outputs": [
    {
     "name": "stdout",
     "output_type": "stream",
     "text": [
      "!! THERE IS NO NULL VALUE !!\n"
     ]
    }
   ],
   "source": [
    "flag = False        \n",
    "for i in df2_temp.columns:\n",
    "    if len(df2_temp[df2_temp[i] == -99999]) !=0:\n",
    "        print(i,\":-\",len(df2_temp[df2_temp[i] == -99999]))\n",
    "        flag = True\n",
    "        \n",
    "if flag is False:\n",
    "    print(\"!! THERE IS NO NULL VALUE !!\")"
   ]
  },
  {
   "cell_type": "code",
   "execution_count": 26,
   "id": "92c5d967",
   "metadata": {},
   "outputs": [],
   "source": [
    "df2 = df2_temp"
   ]
  },
  {
   "cell_type": "code",
   "execution_count": 27,
   "id": "a2b4047c",
   "metadata": {},
   "outputs": [
    {
     "name": "stdout",
     "output_type": "stream",
     "text": [
      "!! THERE IS NO NULL VALUE !!\n"
     ]
    }
   ],
   "source": [
    "flag = False        \n",
    "for i in df1.columns:\n",
    "    if len(df1[df1[i] == -99999]) !=0:\n",
    "        print(i,\":-\",len(df1[df1[i] == -99999]))\n",
    "        flag = True\n",
    "        \n",
    "if flag is False:\n",
    "    print(\"!! THERE IS NO NULL VALUE !!\")"
   ]
  },
  {
   "cell_type": "markdown",
   "id": "194aa022",
   "metadata": {},
   "source": [
    "### Merging Datasets"
   ]
  },
  {
   "cell_type": "code",
   "execution_count": 28,
   "id": "67328e33",
   "metadata": {},
   "outputs": [
    {
     "name": "stdout",
     "output_type": "stream",
     "text": [
      "PROSPECTID\n"
     ]
    }
   ],
   "source": [
    "# CHECKING COMMON COLUMNS NAME\n",
    "for i in df1.columns:\n",
    "    if i in list(df2.columns):\n",
    "        print(i)"
   ]
  },
  {
   "cell_type": "code",
   "execution_count": 29,
   "id": "1ae544e3",
   "metadata": {},
   "outputs": [],
   "source": [
    "# Merge the two dataframes, inner join so that no nulls are present\n",
    "df = pd. merge ( df1, df2, how ='inner', left_on = ['PROSPECTID'], right_on = ['PROSPECTID'] )"
   ]
  },
  {
   "cell_type": "code",
   "execution_count": 30,
   "id": "65eb06f8",
   "metadata": {},
   "outputs": [],
   "source": [
    "df = pd.merge(df1, df2, how = 'inner', left_on = ['PROSPECTID'], right_on = ['PROSPECTID'])"
   ]
  },
  {
   "cell_type": "code",
   "execution_count": 31,
   "id": "bd20cadb",
   "metadata": {},
   "outputs": [
    {
     "data": {
      "text/plain": [
       "(42064, 79)"
      ]
     },
     "execution_count": 31,
     "metadata": {},
     "output_type": "execute_result"
    }
   ],
   "source": [
    "df.shape"
   ]
  },
  {
   "cell_type": "code",
   "execution_count": 32,
   "id": "88a80c17",
   "metadata": {},
   "outputs": [
    {
     "name": "stdout",
     "output_type": "stream",
     "text": [
      "DF-1 SHAPE :- (51296, 26)\n",
      "DF-2 SHAPE :- (42066, 54)\n",
      "DF SHAPE :- (42064, 79)\n"
     ]
    }
   ],
   "source": [
    "print(\"DF-1 SHAPE :-\", df1.shape)\n",
    "print(\"DF-2 SHAPE :-\", df2.shape)\n",
    "print(\"DF SHAPE :-\", df.shape)"
   ]
  },
  {
   "cell_type": "markdown",
   "id": "2966ebf6",
   "metadata": {},
   "source": [
    "### Detailed Analysis"
   ]
  },
  {
   "cell_type": "code",
   "execution_count": 33,
   "id": "87e78e47",
   "metadata": {},
   "outputs": [
    {
     "name": "stdout",
     "output_type": "stream",
     "text": [
      "<class 'pandas.core.frame.DataFrame'>\n",
      "RangeIndex: 42064 entries, 0 to 42063\n",
      "Data columns (total 79 columns):\n",
      " #   Column                      Non-Null Count  Dtype  \n",
      "---  ------                      --------------  -----  \n",
      " 0   PROSPECTID                  42064 non-null  int64  \n",
      " 1   Total_TL                    42064 non-null  int64  \n",
      " 2   Tot_Closed_TL               42064 non-null  int64  \n",
      " 3   Tot_Active_TL               42064 non-null  int64  \n",
      " 4   Total_TL_opened_L6M         42064 non-null  int64  \n",
      " 5   Tot_TL_closed_L6M           42064 non-null  int64  \n",
      " 6   pct_tl_open_L6M             42064 non-null  float64\n",
      " 7   pct_tl_closed_L6M           42064 non-null  float64\n",
      " 8   pct_active_tl               42064 non-null  float64\n",
      " 9   pct_closed_tl               42064 non-null  float64\n",
      " 10  Total_TL_opened_L12M        42064 non-null  int64  \n",
      " 11  Tot_TL_closed_L12M          42064 non-null  int64  \n",
      " 12  pct_tl_open_L12M            42064 non-null  float64\n",
      " 13  pct_tl_closed_L12M          42064 non-null  float64\n",
      " 14  Tot_Missed_Pmnt             42064 non-null  int64  \n",
      " 15  Auto_TL                     42064 non-null  int64  \n",
      " 16  CC_TL                       42064 non-null  int64  \n",
      " 17  Consumer_TL                 42064 non-null  int64  \n",
      " 18  Gold_TL                     42064 non-null  int64  \n",
      " 19  Home_TL                     42064 non-null  int64  \n",
      " 20  PL_TL                       42064 non-null  int64  \n",
      " 21  Secured_TL                  42064 non-null  int64  \n",
      " 22  Unsecured_TL                42064 non-null  int64  \n",
      " 23  Other_TL                    42064 non-null  int64  \n",
      " 24  Age_Oldest_TL               42064 non-null  int64  \n",
      " 25  Age_Newest_TL               42064 non-null  int64  \n",
      " 26  time_since_recent_payment   42064 non-null  int64  \n",
      " 27  num_times_delinquent        42064 non-null  int64  \n",
      " 28  max_recent_level_of_deliq   42064 non-null  int64  \n",
      " 29  num_deliq_6mts              42064 non-null  int64  \n",
      " 30  num_deliq_12mts             42064 non-null  int64  \n",
      " 31  num_deliq_6_12mts           42064 non-null  int64  \n",
      " 32  num_times_30p_dpd           42064 non-null  int64  \n",
      " 33  num_times_60p_dpd           42064 non-null  int64  \n",
      " 34  num_std                     42064 non-null  int64  \n",
      " 35  num_std_6mts                42064 non-null  int64  \n",
      " 36  num_std_12mts               42064 non-null  int64  \n",
      " 37  num_sub                     42064 non-null  int64  \n",
      " 38  num_sub_6mts                42064 non-null  int64  \n",
      " 39  num_sub_12mts               42064 non-null  int64  \n",
      " 40  num_dbt                     42064 non-null  int64  \n",
      " 41  num_dbt_6mts                42064 non-null  int64  \n",
      " 42  num_dbt_12mts               42064 non-null  int64  \n",
      " 43  num_lss                     42064 non-null  int64  \n",
      " 44  num_lss_6mts                42064 non-null  int64  \n",
      " 45  num_lss_12mts               42064 non-null  int64  \n",
      " 46  recent_level_of_deliq       42064 non-null  int64  \n",
      " 47  tot_enq                     42064 non-null  int64  \n",
      " 48  CC_enq                      42064 non-null  int64  \n",
      " 49  CC_enq_L6m                  42064 non-null  int64  \n",
      " 50  CC_enq_L12m                 42064 non-null  int64  \n",
      " 51  PL_enq                      42064 non-null  int64  \n",
      " 52  PL_enq_L6m                  42064 non-null  int64  \n",
      " 53  PL_enq_L12m                 42064 non-null  int64  \n",
      " 54  time_since_recent_enq       42064 non-null  int64  \n",
      " 55  enq_L12m                    42064 non-null  int64  \n",
      " 56  enq_L6m                     42064 non-null  int64  \n",
      " 57  enq_L3m                     42064 non-null  int64  \n",
      " 58  MARITALSTATUS               42064 non-null  object \n",
      " 59  EDUCATION                   42064 non-null  object \n",
      " 60  AGE                         42064 non-null  int64  \n",
      " 61  GENDER                      42064 non-null  object \n",
      " 62  NETMONTHLYINCOME            42064 non-null  int64  \n",
      " 63  Time_With_Curr_Empr         42064 non-null  int64  \n",
      " 64  pct_of_active_TLs_ever      42064 non-null  float64\n",
      " 65  pct_opened_TLs_L6m_of_L12m  42064 non-null  float64\n",
      " 66  pct_currentBal_all_TL       42064 non-null  float64\n",
      " 67  CC_Flag                     42064 non-null  int64  \n",
      " 68  PL_Flag                     42064 non-null  int64  \n",
      " 69  pct_PL_enq_L6m_of_L12m      42064 non-null  float64\n",
      " 70  pct_CC_enq_L6m_of_L12m      42064 non-null  float64\n",
      " 71  pct_PL_enq_L6m_of_ever      42064 non-null  float64\n",
      " 72  pct_CC_enq_L6m_of_ever      42064 non-null  float64\n",
      " 73  HL_Flag                     42064 non-null  int64  \n",
      " 74  GL_Flag                     42064 non-null  int64  \n",
      " 75  last_prod_enq2              42064 non-null  object \n",
      " 76  first_prod_enq2             42064 non-null  object \n",
      " 77  Credit_Score                42064 non-null  int64  \n",
      " 78  Approved_Flag               42064 non-null  object \n",
      "dtypes: float64(13), int64(60), object(6)\n",
      "memory usage: 25.4+ MB\n"
     ]
    }
   ],
   "source": [
    "df.info()"
   ]
  },
  {
   "cell_type": "code",
   "execution_count": 34,
   "id": "36e94c06",
   "metadata": {
    "scrolled": true
   },
   "outputs": [
    {
     "name": "stdout",
     "output_type": "stream",
     "text": [
      "MARITALSTATUS\n",
      "EDUCATION\n",
      "GENDER\n",
      "last_prod_enq2\n",
      "first_prod_enq2\n",
      "Approved_Flag\n"
     ]
    }
   ],
   "source": [
    "for i in df.columns:\n",
    "    if df[i].dtype == 'object':\n",
    "        print(i)"
   ]
  },
  {
   "cell_type": "markdown",
   "id": "090cd62e",
   "metadata": {},
   "source": [
    "#### DETAILED ANALYSIS OF CATEGORICAL COLUMNS "
   ]
  },
  {
   "cell_type": "markdown",
   "id": "22499398",
   "metadata": {},
   "source": [
    "#### 1. MARITALSTATUS "
   ]
  },
  {
   "cell_type": "markdown",
   "id": "ec7db9a6",
   "metadata": {},
   "source": [
    "#### -- UNIVARIATE ANALYSIS"
   ]
  },
  {
   "cell_type": "code",
   "execution_count": 35,
   "id": "a09111fe",
   "metadata": {},
   "outputs": [
    {
     "data": {
      "image/png": "[encoded data removed]",
      "text/plain": [
       "<Figure size 1000x400 with 2 Axes>"
      ]
     },
     "metadata": {},
     "output_type": "display_data"
    }
   ],
   "source": [
    "f, ax = plt.subplots(1, 2, figsize=(10, 4))\n",
    "sns.countplot(data=df, x='MARITALSTATUS',ax=ax[0], edgecolor='black')\n",
    "for container in ax[0].containers:\n",
    "    ax[0].bar_label(container, color='black', size=12)\n",
    "ax[0].set_title(\"BARPLOT OF MARITALSTATUS\",size=10)   \n",
    "ax[1].pie(x=df['MARITALSTATUS'].value_counts(),\n",
    "          labels=df['MARITALSTATUS'].value_counts().index,\n",
    "         explode=[0.05, 0.05],\n",
    "         autopct='%1.1f%%',\n",
    "        shadow=True,\n",
    "        startangle=90, \n",
    "        wedgeprops={'edgecolor':'black', 'linewidth':2, 'width':0.5})\n",
    "\n",
    "ax[1].set_title(\"PIE-CHART OF MARITALSTATUS\", size=10)\n",
    "\n",
    "plt.suptitle(\"ANALYZING MARITALSTATUS COLUMN\", size=13)\n",
    "plt.tight_layout()\n",
    "plt.show()"
   ]
  },
  {
   "cell_type": "markdown",
   "id": "46204064",
   "metadata": {},
   "source": [
    "#### -- BIVARIATE ANALYSIS"
   ]
  },
  {
   "cell_type": "code",
   "execution_count": null,
   "id": "3fb5eb1d",
   "metadata": {},
   "outputs": [],
   "source": []
  },
  {
   "cell_type": "code",
   "execution_count": 37,
   "id": "4667af01",
   "metadata": {},
   "outputs": [],
   "source": [
    "# pivot_df = pd.crosstab(df['Approved_Flag'],df['MARITALSTATUS'],  normalize='index') * 100\n",
    "\n",
    "# pivot_df_long = pivot_df.reset_index().melt(id_vars='Approved_Flag', var_name='MARITALSTATUS', value_name='Percentage')\n",
    "\n",
    "# sns.barplot(data=pivot_df_long, x='MARITALSTATUS', y='Percentage', hue='Approved_Flag', ci=None)\n",
    "\n",
    "# # Add labels and title\n",
    "# plt.title('100% Stacked Bar Plot: Marital Status vs Approval Flag', size = 13)\n",
    "# plt.xlabel('Marital Status')\n",
    "# plt.ylabel('Percentage')\n",
    "\n",
    "# # Show the plot\n",
    "# plt.show()"
   ]
  },
  {
   "cell_type": "markdown",
   "id": "da3dbad1",
   "metadata": {},
   "source": [
    "#### CHI-SQUARE TEST FOR CATEGORICAL COLUMNS"
   ]
  },
  {
   "cell_type": "code",
   "execution_count": 39,
   "id": "1d0dd265",
   "metadata": {},
   "outputs": [
    {
     "name": "stdout",
     "output_type": "stream",
     "text": [
      "MARITALSTATUS -> 3.578180861038862e-233\n",
      "EDUCATION -> 2.6942265249737532e-30\n",
      "GENDER -> 1.907936100186563e-05\n",
      "last_prod_enq2 -> 0.0\n",
      "first_prod_enq2 -> 7.84997610555419e-287\n"
     ]
    }
   ],
   "source": [
    "# CHI-SQUARE TEST\n",
    "from scipy.stats import chi2_contingency\n",
    "for i in ['MARITALSTATUS', 'EDUCATION', 'GENDER', 'last_prod_enq2', 'first_prod_enq2']:\n",
    "    chi2, pval, _, _ = chi2_contingency(pd.crosstab(df[i], df['Approved_Flag']))\n",
    "    print(i,\"->\", pval)"
   ]
  },
  {
   "cell_type": "code",
   "execution_count": 40,
   "id": "65f63ec1",
   "metadata": {},
   "outputs": [],
   "source": [
    "# ALL OF THEM HAVE P-VALUE LESS THA 0.05 SO WE WILL TAKE ALL THE PARAMENTERS "
   ]
  },
  {
   "cell_type": "markdown",
   "id": "9273beee",
   "metadata": {},
   "source": [
    "#### VIF SEQUENTIAL CHECK FOR NUMERICAL COLUMNS\n"
   ]
  },
  {
   "cell_type": "code",
   "execution_count": 43,
   "id": "18b03a7d",
   "metadata": {},
   "outputs": [],
   "source": [
    "# VIF FOR NUMERICAL COLUMNS:-\n",
    "numerical_columns = []\n",
    "for i in df.columns:\n",
    "    if df[i].dtype != \"object\" and i != 'PROSPECTID':\n",
    "        numerical_columns.append(i)"
   ]
  },
  {
   "cell_type": "code",
   "execution_count": 44,
   "id": "d66c2b9a",
   "metadata": {},
   "outputs": [
    {
     "data": {
      "text/plain": [
       "['Total_TL',\n",
       " 'Tot_Closed_TL',\n",
       " 'Tot_Active_TL',\n",
       " 'Total_TL_opened_L6M',\n",
       " 'Tot_TL_closed_L6M',\n",
       " 'pct_tl_open_L6M',\n",
       " 'pct_tl_closed_L6M',\n",
       " 'pct_active_tl',\n",
       " 'pct_closed_tl',\n",
       " 'Total_TL_opened_L12M',\n",
       " 'Tot_TL_closed_L12M',\n",
       " 'pct_tl_open_L12M',\n",
       " 'pct_tl_closed_L12M',\n",
       " 'Tot_Missed_Pmnt',\n",
       " 'Auto_TL',\n",
       " 'CC_TL',\n",
       " 'Consumer_TL',\n",
       " 'Gold_TL',\n",
       " 'Home_TL',\n",
       " 'PL_TL',\n",
       " 'Secured_TL',\n",
       " 'Unsecured_TL',\n",
       " 'Other_TL',\n",
       " 'Age_Oldest_TL',\n",
       " 'Age_Newest_TL',\n",
       " 'time_since_recent_payment',\n",
       " 'num_times_delinquent',\n",
       " 'max_recent_level_of_deliq',\n",
       " 'num_deliq_6mts',\n",
       " 'num_deliq_12mts',\n",
       " 'num_deliq_6_12mts',\n",
       " 'num_times_30p_dpd',\n",
       " 'num_times_60p_dpd',\n",
       " 'num_std',\n",
       " 'num_std_6mts',\n",
       " 'num_std_12mts',\n",
       " 'num_sub',\n",
       " 'num_sub_6mts',\n",
       " 'num_sub_12mts',\n",
       " 'num_dbt',\n",
       " 'num_dbt_6mts',\n",
       " 'num_dbt_12mts',\n",
       " 'num_lss',\n",
       " 'num_lss_6mts',\n",
       " 'num_lss_12mts',\n",
       " 'recent_level_of_deliq',\n",
       " 'tot_enq',\n",
       " 'CC_enq',\n",
       " 'CC_enq_L6m',\n",
       " 'CC_enq_L12m',\n",
       " 'PL_enq',\n",
       " 'PL_enq_L6m',\n",
       " 'PL_enq_L12m',\n",
       " 'time_since_recent_enq',\n",
       " 'enq_L12m',\n",
       " 'enq_L6m',\n",
       " 'enq_L3m',\n",
       " 'AGE',\n",
       " 'NETMONTHLYINCOME',\n",
       " 'Time_With_Curr_Empr',\n",
       " 'pct_of_active_TLs_ever',\n",
       " 'pct_opened_TLs_L6m_of_L12m',\n",
       " 'pct_currentBal_all_TL',\n",
       " 'CC_Flag',\n",
       " 'PL_Flag',\n",
       " 'pct_PL_enq_L6m_of_L12m',\n",
       " 'pct_CC_enq_L6m_of_L12m',\n",
       " 'pct_PL_enq_L6m_of_ever',\n",
       " 'pct_CC_enq_L6m_of_ever',\n",
       " 'HL_Flag',\n",
       " 'GL_Flag',\n",
       " 'Credit_Score']"
      ]
     },
     "execution_count": 44,
     "metadata": {},
     "output_type": "execute_result"
    }
   ],
   "source": [
    "numerical_columns"
   ]
  },
  {
   "cell_type": "code",
   "execution_count": 53,
   "id": "f595bfcd",
   "metadata": {},
   "outputs": [
    {
     "name": "stdout",
     "output_type": "stream",
     "text": [
      "0 .  Total_TL -> inf\n",
      "1 .  Tot_Closed_TL -> inf\n",
      "2 .  Tot_Active_TL -> 11.320180023967996\n",
      "3 .  Total_TL_opened_L6M -> 8.363698035000327\n",
      "4 .  Tot_TL_closed_L6M -> 6.520647877790928\n",
      "5 .  pct_tl_open_L6M -> 5.149501618212625\n",
      "6 .  pct_tl_closed_L6M -> 2.611111040579735\n",
      "7 .  pct_active_tl -> inf\n",
      "8 .  pct_closed_tl -> 1788.7926256209232\n",
      "9 .  Total_TL_opened_L12M -> 8.601028256477228\n",
      "10 .  Tot_TL_closed_L12M -> 3.8328007921530785\n",
      "11 .  pct_tl_open_L12M -> 6.099653381646739\n",
      "12 .  pct_tl_closed_L12M -> 5.5813520096427585\n",
      "13 .  Tot_Missed_Pmnt -> 1.985584353098778\n",
      "14 .  Auto_TL -> inf\n",
      "15 .  CC_TL -> 4.809538302819343\n",
      "16 .  Consumer_TL -> 23.270628983464636\n",
      "17 .  Gold_TL -> 30.595522588100053\n",
      "18 .  Home_TL -> 4.3843464059655854\n",
      "19 .  PL_TL -> 3.0646584155234238\n",
      "20 .  Secured_TL -> 2.898639771299252\n",
      "21 .  Unsecured_TL -> 4.377876915347324\n",
      "22 .  Other_TL -> 2.2078535836958433\n",
      "23 .  Age_Oldest_TL -> 4.916914200506864\n",
      "24 .  Age_Newest_TL -> 5.214702030064725\n",
      "25 .  time_since_recent_payment -> 3.3861625024231476\n",
      "26 .  num_times_delinquent -> 7.840583309478997\n",
      "27 .  max_recent_level_of_deliq -> 5.255034641721438\n",
      "28 .  num_deliq_6mts -> inf\n",
      "29 .  num_deliq_12mts -> 7.380634506427232\n",
      "30 .  num_deliq_6_12mts -> 1.421005001517573\n",
      "31 .  num_times_30p_dpd -> 8.083255010190323\n",
      "32 .  num_times_60p_dpd -> 1.624122752404011\n",
      "33 .  num_std -> 7.257811920140003\n",
      "34 .  num_std_6mts -> 15.59624383268298\n",
      "35 .  num_std_12mts -> 1.825857047132431\n",
      "36 .  num_sub -> 1.5080839450032664\n",
      "37 .  num_sub_6mts -> 2.172088834824577\n",
      "38 .  num_sub_12mts -> 2.623397553527229\n",
      "39 .  num_dbt -> 2.2959970812106176\n",
      "40 .  num_dbt_6mts -> 7.360578319196439\n",
      "41 .  num_dbt_12mts -> 2.1602387773102554\n",
      "42 .  num_lss -> 2.8686288267891467\n",
      "43 .  num_lss_6mts -> 6.458218003637272\n",
      "44 .  num_lss_12mts -> 2.8474118865638265\n",
      "45 .  recent_level_of_deliq -> 4.7531981562840855\n",
      "46 .  tot_enq -> 16.22735475594825\n",
      "47 .  CC_enq -> 6.424377256363877\n",
      "48 .  CC_enq_L6m -> 8.887080381808687\n",
      "49 .  CC_enq_L12m -> 2.3804746142952653\n",
      "50 .  PL_enq -> 8.60951347651454\n",
      "51 .  PL_enq_L6m -> 13.06755093547673\n",
      "52 .  PL_enq_L12m -> 3.5000400566546555\n",
      "53 .  time_since_recent_enq -> 1.9087955874813773\n",
      "54 .  enq_L12m -> 17.006562234161628\n",
      "55 .  enq_L6m -> 10.730485153719197\n",
      "56 .  enq_L3m -> 2.3538497522950275\n",
      "57 .  AGE -> 22.104855915136433\n",
      "58 .  NETMONTHLYINCOME -> 2.7971639638512906\n",
      "59 .  Time_With_Curr_Empr -> 3.424171203217696\n",
      "60 .  pct_of_active_TLs_ever -> 10.175021454450935\n",
      "61 .  pct_opened_TLs_L6m_of_L12m -> 6.408710354561301\n",
      "62 .  pct_currentBal_all_TL -> 1.0011511962625619\n",
      "63 .  CC_Flag -> 3.069197305397274\n",
      "64 .  PL_Flag -> 2.8091261600643724\n",
      "65 .  pct_PL_enq_L6m_of_L12m -> 20.249538381980678\n",
      "66 .  pct_CC_enq_L6m_of_L12m -> 15.864576541593774\n",
      "67 .  pct_PL_enq_L6m_of_ever -> 1.8331649740532163\n",
      "68 .  pct_CC_enq_L6m_of_ever -> 1.5680839909542037\n",
      "69 .  HL_Flag -> 1.9307572353811677\n",
      "70 .  GL_Flag -> 4.331265056645247\n",
      "71 .  Credit_Score -> 9.390334396150173\n"
     ]
    }
   ],
   "source": [
    "# VIF SEQUENTIAL CHECK\n",
    "\n",
    "from statsmodels.stats.outliers_influence import variance_inflation_factor\n",
    "\n",
    "vif_data = df[numerical_columns]\n",
    "total_columns = vif_data.shape[1]\n",
    "columns_to_be_kept = []\n",
    "columns_index = 0\n",
    "\n",
    "for i in range(0, total_columns):\n",
    "    vif_value = variance_inflation_factor(vif_data, columns_index)\n",
    "    print(i,\". \", numerical_columns[i], \"->\", vif_value)\n",
    "    \n",
    "    if vif_value <= 6:\n",
    "        columns_to_be_kept.append(numerical_columns[i])\n",
    "        columns_index = columns_index + 1\n",
    "    else:\n",
    "        vif_data = vif_data.drop([numerical_columns[i]], axis = 1)"
   ]
  },
  {
   "cell_type": "code",
   "execution_count": 48,
   "id": "2c908179",
   "metadata": {},
   "outputs": [
    {
     "data": {
      "text/plain": [
       "72"
      ]
     },
     "execution_count": 48,
     "metadata": {},
     "output_type": "execute_result"
    }
   ],
   "source": [
    "len(numerical_columns)"
   ]
  },
  {
   "cell_type": "markdown",
   "id": "d8d30c53",
   "metadata": {},
   "source": [
    "#### CHECKING ANOVA FOR THE COLUMNS TO BE KEPT"
   ]
  },
  {
   "cell_type": "code",
   "execution_count": 54,
   "id": "5b094faf",
   "metadata": {},
   "outputs": [],
   "source": [
    "from scipy.stats import f_oneway"
   ]
  },
  {
   "cell_type": "code",
   "execution_count": 55,
   "id": "b5a7dc51",
   "metadata": {},
   "outputs": [],
   "source": [
    "columns_to_be_kept_numerical = []\n",
    "\n",
    "for i in columns_to_be_kept:\n",
    "    a = list(df[i])\n",
    "    b = list(df['Approved_Flag'])\n",
    "    \n",
    "    group_P1 = [value for value, group in zip(a, b) if group == 'P1']\n",
    "    group_P2 = [value for value, group in zip(a, b) if group == 'P2']\n",
    "    group_P3 = [value for value, group in zip(a, b) if group == 'P3']\n",
    "    group_P4 = [value for value, group in zip(a, b) if group == 'P4']\n",
    "    \n",
    "    f_statistic, p_value = f_oneway(group_P1, group_P2, group_P3, group_P4)\n",
    "    \n",
    "    if p_value <= 0.05:\n",
    "        columns_to_be_kept_numerical.append(i)"
   ]
  },
  {
   "cell_type": "code",
   "execution_count": 56,
   "id": "1733a345",
   "metadata": {},
   "outputs": [
    {
     "data": {
      "text/plain": [
       "37"
      ]
     },
     "execution_count": 56,
     "metadata": {},
     "output_type": "execute_result"
    }
   ],
   "source": [
    "len(columns_to_be_kept_numerical)"
   ]
  },
  {
   "cell_type": "code",
   "execution_count": 59,
   "id": "779c57de",
   "metadata": {},
   "outputs": [],
   "source": [
    "# LISTIING ALL THE FINAL FEATURE"
   ]
  },
  {
   "cell_type": "code",
   "execution_count": 60,
   "id": "45861507",
   "metadata": {},
   "outputs": [],
   "source": [
    "features = columns_to_be_kept_numerical + ['MARITALSTATUS','EDUCATION','GENDER','last_prod_enq2','first_prod_enq2','Approved_Flag']"
   ]
  },
  {
   "cell_type": "code",
   "execution_count": 63,
   "id": "a76e7754",
   "metadata": {},
   "outputs": [
    {
     "data": {
      "text/plain": [
       "43"
      ]
     },
     "execution_count": 63,
     "metadata": {},
     "output_type": "execute_result"
    }
   ],
   "source": [
    "len(features)"
   ]
  },
  {
   "cell_type": "code",
   "execution_count": 67,
   "id": "dca2098b",
   "metadata": {},
   "outputs": [
    {
     "data": {
      "text/plain": [
       "(42064, 43)"
      ]
     },
     "execution_count": 67,
     "metadata": {},
     "output_type": "execute_result"
    }
   ],
   "source": [
    "df = df[features]\n",
    "df.shape"
   ]
  },
  {
   "cell_type": "code",
   "execution_count": 72,
   "id": "fb233ef3",
   "metadata": {},
   "outputs": [
    {
     "name": "stdout",
     "output_type": "stream",
     "text": [
      "MARITALSTATUS   :-  ['Married' 'Single']\n",
      "EDUCATION       :-  ['12TH' 'GRADUATE' 'SSC' 'POST-GRADUATE' 'UNDER GRADUATE' 'OTHERS'\n",
      " 'PROFESSIONAL']\n",
      "GENDER          :-  ['M' 'F']\n",
      "last_prod_enq2  :- ['PL' 'ConsumerLoan' 'AL' 'CC' 'others' 'HL']\n",
      "first_prod_enq2 :-  ['PL' 'ConsumerLoan' 'others' 'AL' 'HL' 'CC']\n"
     ]
    }
   ],
   "source": [
    "# LABEL ENCODING FOR A CATEGORICAL FEATURES\n",
    "print(\"MARITALSTATUS   :- \",df['MARITALSTATUS'].unique())\n",
    "print(\"EDUCATION       :- \",df['EDUCATION'].unique())\n",
    "print(\"GENDER          :- \",df['GENDER'].unique())\n",
    "print(\"last_prod_enq2  :-\",df['last_prod_enq2'].unique())\n",
    "print(\"first_prod_enq2 :- \",df['first_prod_enq2'].unique())"
   ]
  },
  {
   "cell_type": "code",
   "execution_count": 73,
   "id": "587b4087",
   "metadata": {},
   "outputs": [],
   "source": [
    "# Ordinal feature -- EDUCATION\n",
    "# SSC            : 1\n",
    "# 12TH           : 2\n",
    "# GRADUATE       : 3\n",
    "# UNDER GRADUATE : 3\n",
    "# POST-GRADUATE  : 4\n",
    "# OTHERS         : 1\n",
    "# PROFESSIONAL   : 3"
   ]
  },
  {
   "cell_type": "code",
   "execution_count": 78,
   "id": "a2acf135",
   "metadata": {},
   "outputs": [],
   "source": [
    "df.loc[df['EDUCATION']=='SSC', ['EDUCATION']] = 1\n",
    "df.loc[df['EDUCATION']=='12TH', ['EDUCATION']] = 2\n",
    "df.loc[df['EDUCATION']=='GRADUATE', ['EDUCATION']] = 3\n",
    "df.loc[df['EDUCATION']=='UNDER GRADUATE', ['EDUCATION']] = 3\n",
    "df.loc[df['EDUCATION']=='POST-GRADUATE', ['EDUCATION']] = 4\n",
    "df.loc[df['EDUCATION']=='OTHERS', ['EDUCATION']] = 1\n",
    "df.loc[df['EDUCATION']=='PROFESSIONAL', ['EDUCATION']] = 3"
   ]
  },
  {
   "cell_type": "code",
   "execution_count": 79,
   "id": "c8ac2224",
   "metadata": {},
   "outputs": [
    {
     "data": {
      "text/plain": [
       "array([2, 3, 1, 4], dtype=object)"
      ]
     },
     "execution_count": 79,
     "metadata": {},
     "output_type": "execute_result"
    }
   ],
   "source": [
    "df['EDUCATION'].unique()"
   ]
  },
  {
   "cell_type": "code",
   "execution_count": 80,
   "id": "3fed93ac",
   "metadata": {},
   "outputs": [
    {
     "data": {
      "text/plain": [
       "<Axes: xlabel='EDUCATION', ylabel='count'>"
      ]
     },
     "execution_count": 80,
     "metadata": {},
     "output_type": "execute_result"
    },
    {
     "data": {
      "image/png": "[encoded data removed]",
      "text/plain": [
       "<Figure size 640x480 with 1 Axes>"
      ]
     },
     "metadata": {},
     "output_type": "display_data"
    }
   ],
   "source": [
    "sns.countplot(data=df, x='EDUCATION')"
   ]
  },
  {
   "cell_type": "code",
   "execution_count": 82,
   "id": "c184aa3d",
   "metadata": {},
   "outputs": [
    {
     "data": {
      "text/plain": [
       "EDUCATION\n",
       "3    0.450052\n",
       "2    0.278219\n",
       "1    0.226607\n",
       "4    0.045122\n",
       "Name: proportion, dtype: float64"
      ]
     },
     "execution_count": 82,
     "metadata": {},
     "output_type": "execute_result"
    }
   ],
   "source": [
    "df['EDUCATION'].value_counts(normalize=True)"
   ]
  },
  {
   "cell_type": "code",
   "execution_count": null,
   "id": "d900c9ba",
   "metadata": {},
   "outputs": [],
   "source": []
  }
 ],
 "metadata": {
  "kernelspec": {
   "display_name": "Python 3 (ipykernel)",
   "language": "python",
   "name": "python3"
  },
  "language_info": {
   "codemirror_mode": {
    "name": "ipython",
    "version": 3
   },
   "file_extension": ".py",
   "mimetype": "text/x-python",
   "name": "python",
   "nbconvert_exporter": "python",
   "pygments_lexer": "ipython3",
   "version": "3.10.9"
  }
 },
 "nbformat": 4,
 "nbformat_minor": 5
}
